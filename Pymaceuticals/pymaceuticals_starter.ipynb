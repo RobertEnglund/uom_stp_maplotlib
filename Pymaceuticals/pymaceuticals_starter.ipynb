{
 "cells": [
  {
   "cell_type": "markdown",
   "metadata": {},
   "source": [
    "## Observations and Insights "
   ]
  },
  {
   "cell_type": "markdown",
   "metadata": {},
   "source": []
  },
  {
   "cell_type": "code",
   "execution_count": null,
   "metadata": {},
   "outputs": [],
   "source": [
    "# Dependencies and Setup\n",
    "import matplotlib.pyplot as plt\n",
    "import pandas as pd\n",
    "import scipy.stats as st\n",
    "import numpy as np\n",
    "from scipy.stats import linregress\n",
    "\n",
    "# Study data files\n",
    "mouse_metadata_path = \"data/Mouse_metadata.csv\"\n",
    "study_results_path = \"data/Study_results.csv\"\n",
    "\n",
    "# Read the mouse data and the study results\n",
    "mouse_metadata = pd.read_csv(mouse_metadata_path)\n",
    "study_results = pd.read_csv(study_results_path)\n",
    "\n",
    "# Combine the data into a single dataset\n",
    "mouse_data_merged = mouse_metadata.merge(study_results, left_on=\"Mouse ID\", right_on=\"Mouse ID\", how=\"inner\")\n",
    "\n",
    "# Display the data table for preview\n",
    "mouse_data_merged.head()\n"
   ]
  },
  {
   "cell_type": "code",
   "execution_count": null,
   "metadata": {},
   "outputs": [],
   "source": [
    "# Checking the number of mice.\n",
    "meta_count = mouse_metadata[\"Mouse ID\"].nunique()\n",
    "study_count = study_results[\"Mouse ID\"].nunique()\n",
    "merged_count = mouse_data_merged[\"Mouse ID\"].nunique()\n",
    "print(f'Mouse counts: meta: {meta_count}, study: {study_count}, merged {merged_count}')"
   ]
  },
  {
   "cell_type": "code",
   "execution_count": null,
   "metadata": {},
   "outputs": [],
   "source": [
    "# From instructions: \"Before beginning the analysis, check the data for any mouse ID with duplicate time points and remove \n",
    "# any data associated with that mouse ID\"\n",
    "\n",
    "# I am reading this to mean that any mouse ID with duplicated time points is suspect/invalid and all data associated with\n",
    "# mouse ID must be removed from the file\n",
    "\n",
    "# Looking at data for mouse with duplicated timepoints reinforces this interpretation because column values vary by\n",
    "# timepoint, indicating that Mouse ID was entered incorrectly (duplicated another mouse), or there was something wrong with\n",
    "# the way that the data was collected/entered for this ID with duplicated timepoints"
   ]
  },
  {
   "cell_type": "code",
   "execution_count": null,
   "metadata": {},
   "outputs": [],
   "source": [
    "# Getting the duplicate mice by ID number that shows up for Mouse ID and Timepoint. \n",
    "# Create a group by on ID and Timepoint - any Mouse ID/timepoint with counts greater than 1 indicates duplicates\n",
    "mouse_group = mouse_data_merged.groupby([\"Mouse ID\", \"Timepoint\"])\n",
    "df = mouse_group.count() \n",
    "df = df.loc[df[\"Drug Regimen\"]>1, :]\n",
    "\n",
    "# Create a list of mouse IDs with duplicate timepoints\n",
    "mouse_group2 = df.groupby([\"Mouse ID\"])\n",
    "mice_with_duplicated_timepoints = mouse_group2.count()\n",
    "mice_with_duplicated_timepoints = mice_with_duplicated_timepoints.reset_index()\n",
    "mice_with_duplicated_timepoints"
   ]
  },
  {
   "cell_type": "code",
   "execution_count": null,
   "metadata": {},
   "outputs": [],
   "source": [
    "# Optional: Get all the data for the duplicate mouse ID. \n",
    "\n",
    "bad_mice_data = mice_with_duplicated_timepoints.merge(mouse_data_merged, left_on=\"Mouse ID\", right_on=\"Mouse ID\", \n",
    "                                                      how=\"left\")\n",
    "rows_to_drop = len(bad_mice_data)\n",
    "\n",
    "bad_mice_data"
   ]
  },
  {
   "cell_type": "code",
   "execution_count": null,
   "metadata": {},
   "outputs": [],
   "source": [
    "# Create a clean DataFrame by dropping the duplicate mouse by its ID.\n",
    "# Outer join mice with duplicates to the orginal merged dataframe\n",
    "# records with no match on mice with duplicates will have NaN values in the resulting fields from mice with duplicates\n",
    "clean_mice_data = mice_with_duplicated_timepoints.merge(mouse_data_merged, left_on=\"Mouse ID\", right_on=\"Mouse ID\", \n",
    "                                                        how=\"outer\", suffixes=(\"_bad\",\"\"))\n",
    "\n",
    "# count rows before dropping mice with duplicates\n",
    "rows_before_drop = len(clean_mice_data)\n",
    "\n",
    "# identify rows to keep: rows that had no match in the outer join to mice_with_duplicated_timepoints\n",
    "# drop rows that have non-zero values after replacing NaN with zero\n",
    "#\n",
    "# OBS!  This works in this instance, but not a good practice to continue.  At least not without additional\n",
    "# data cleaning to ensure that all the values in Sex are valid (i.e. there were no zeroes in this column before\n",
    "# replacing all the NaN values with zero)\n",
    "#\n",
    "clean_mice_data = clean_mice_data.fillna(0)\n",
    "clean_mice_data = clean_mice_data.drop(clean_mice_data[clean_mice_data.Sex_bad >0].index)\n",
    "\n",
    "# remove duplicated columns with non-values\n",
    "clean_mice_data = clean_mice_data.drop([col for col in clean_mice_data if col.endswith('_bad')], 1)\n",
    "\n",
    "# count rows in cleaned dataframe\n",
    "rows_after_drop = len(clean_mice_data)\n",
    "\n",
    "clean_mice_data.head()"
   ]
  },
  {
   "cell_type": "code",
   "execution_count": null,
   "metadata": {},
   "outputs": [],
   "source": [
    "# Checking the number of mice in the clean DataFrame.\n",
    "\n",
    "# print row counts for validation\n",
    "print(f'Row count before drop: {rows_before_drop}')\n",
    "print(f'Count of rows to drop: {rows_to_drop}')\n",
    "print(f'Row count after drop (clean dataframe): {rows_after_drop}')\n"
   ]
  },
  {
   "cell_type": "markdown",
   "metadata": {},
   "source": [
    "## Summary Statistics"
   ]
  },
  {
   "cell_type": "code",
   "execution_count": null,
   "metadata": {},
   "outputs": [],
   "source": [
    "# Generate a summary statistics table of mean, median, variance, standard deviation, and SEM of the tumor volume for each regimen\n",
    "\n",
    "# Use groupby and summary statistical methods to calculate the following properties of each drug regimen: \n",
    "# mean, median, variance, standard deviation, and SEM of the tumor volume. \n",
    "# Assemble the resulting series into a single summary dataframe.\n",
    "\n",
    "# create a groupby on \"Drug Regimen\" and then calculate statistics, appending to new df as each list is calced\n",
    "regimen_group = clean_mice_data.groupby([\"Drug Regimen\"])\n",
    "regimen_summary_df = regimen_group[\"Tumor Volume (mm3)\"].mean().reset_index()\\\n",
    "        .rename(columns={\"Tumor Volume (mm3)\":\"Mean\"})\n",
    "regimen_summary_df = pd.merge(regimen_summary_df, regimen_group[\"Tumor Volume (mm3)\"].median(), on=\"Drug Regimen\")\\\n",
    "        .rename(columns={\"Tumor Volume (mm3)\":\"Median\"})\n",
    "regimen_summary_df = pd.merge(regimen_summary_df, regimen_group[\"Tumor Volume (mm3)\"].var(), on=\"Drug Regimen\")\\\n",
    "        .rename(columns={\"Tumor Volume (mm3)\":\"Variance\"})\n",
    "regimen_summary_df = pd.merge(regimen_summary_df, regimen_group[\"Tumor Volume (mm3)\"].std(), on=\"Drug Regimen\")\\\n",
    "        .rename(columns={\"Tumor Volume (mm3)\":\"Std Dev\"})\n",
    "regimen_summary_df = pd.merge(regimen_summary_df, regimen_group[\"Tumor Volume (mm3)\"].sem(), on=\"Drug Regimen\")\\\n",
    "        .rename(columns={\"Tumor Volume (mm3)\":\"SEM\"})\n",
    "\n",
    "regimen_summary_df\n"
   ]
  },
  {
   "cell_type": "code",
   "execution_count": null,
   "metadata": {},
   "outputs": [],
   "source": [
    "# Generate a summary statistics table of mean, median, variance, standard deviation, and SEM of the tumor volume for each regimen\n",
    "\n",
    "# Using the aggregation method, produce the same summary statistics in a single line\n",
    "\n",
    "regimen_summary2_df = regimen_group.agg({\"Tumor Volume (mm3)\" : [\"mean\", \"median\", \"var\", \"std\", \"sem\"]})\n",
    "\n",
    "regimen_summary2_df"
   ]
  },
  {
   "cell_type": "markdown",
   "metadata": {},
   "source": [
    "## Bar and Pie Charts"
   ]
  },
  {
   "cell_type": "code",
   "execution_count": null,
   "metadata": {},
   "outputs": [],
   "source": [
    "# Generate a bar plot showing the total number of unique mice tested on each drug regimen using pandas.\n",
    "\n",
    "# get count of mice on each regimen from the regimen groupby created above\n",
    "count_df = regimen_group[\"Tumor Volume (mm3)\"].count().reset_index()\\\n",
    "        .rename(columns={\"Tumor Volume (mm3)\":\"Count of Mice\"})\n",
    "\n",
    "# create bar plot using pandas\n",
    "count_df.plot.bar(x=\"Drug Regimen\", y=\"Count of Mice\", rot=45,legend=False,title=\"Count of Mice by Drug Regimen\")\n",
    "plt.show()\n"
   ]
  },
  {
   "cell_type": "code",
   "execution_count": null,
   "metadata": {},
   "outputs": [],
   "source": [
    "# Generate a bar plot showing the total number of unique mice tested on each drug regimen using pyplot.\n",
    "\n",
    "# get data for x and y axes\n",
    "y_axis = count_df[\"Count of Mice\"].tolist()\n",
    "x_labels = count_df[\"Drug Regimen\"].tolist()\n",
    "x_axis = np.arange(len(y_axis))\n",
    "\n",
    "# create bar chart using matplotlib \n",
    "fig = plt.figure()\n",
    "plt.bar(x_axis, y_axis, color=\"#1f77b4\", alpha=1, align=\"center\",width=0.5)\n",
    "fig.suptitle(\"Count of Mice by Drug Regimen\", fontsize=12)\n",
    "plt.xticks(x_axis, x_labels, rotation=\"45\")\n",
    "plt.xlabel('Drug Regimen')\n",
    "plt.show()"
   ]
  },
  {
   "cell_type": "code",
   "execution_count": null,
   "metadata": {},
   "outputs": [],
   "source": [
    "# Generate a pie plot showing the distribution of female versus male mice using pandas\n",
    "# To do: figure out how to get rid of \"Count\" on the left side of the pie chart\n",
    "\n",
    "# copy clean mice data to another df in order to rename \"Mouse ID\" to \"Count\"\n",
    "# To do: figure out how to get rid of label on the left side of the pie chart\n",
    "# in the meantime, \"Count\" makes more sense as a label than \"Mouse ID\"\n",
    "df = clean_mice_data.rename(columns={\"Mouse ID\":\"Count\"})\n",
    "\n",
    "# count number of unique \"Mouse ID\" (\"Count\") by gender (\"Sex\")\n",
    "gender_df = df.groupby(\"Sex\")[\"Count\"].nunique()\n",
    "\n",
    "gender_df.plot.pie(title=\"Distribution of Mice by Gender\")\n",
    "plt.show()"
   ]
  },
  {
   "cell_type": "code",
   "execution_count": null,
   "metadata": {},
   "outputs": [],
   "source": [
    "# Generate a pie plot showing the distribution of female versus male mice using pyplot\n",
    "\n",
    "# reset index on gender data frame in order to pull gender labels and counts into separate lists\n",
    "gender_df2 = gender_df.reset_index()\n",
    "gender_list = gender_df2[\"Sex\"].tolist()\n",
    "gender_count = gender_df2[\"Count\"].tolist()\n",
    "\n",
    "# plot pie chart with matplotlib\n",
    "fig = plt.figure()\n",
    "plt.pie(gender_count, labels=gender_list)\n",
    "fig.suptitle(\"Distribution of Mice by Gender\", fontsize=12)\n",
    "plt.show()"
   ]
  },
  {
   "cell_type": "markdown",
   "metadata": {},
   "source": [
    "## Quartiles, Outliers and Boxplots"
   ]
  },
  {
   "cell_type": "code",
   "execution_count": null,
   "metadata": {},
   "outputs": [],
   "source": [
    "# Calculate the final tumor volume of each mouse across four of the treatment regimens:  \n",
    "# Capomulin, Ramicane, Infubinol, and Ceftamin\n",
    "\n",
    "# Start by getting the last (greatest) timepoint for each mouse\n",
    "\n",
    "\n",
    "# Merge this group df with the original dataframe to get the tumor volume at the last timepoint\n"
   ]
  },
  {
   "cell_type": "code",
   "execution_count": null,
   "metadata": {},
   "outputs": [],
   "source": [
    "# Put treatments into a list for for loop (and later for plot labels)\n",
    "\n",
    "\n",
    "# Create empty list to fill with tumor vol data (for plotting)\n",
    "\n",
    "\n",
    "# Calculate the IQR and quantitatively determine if there are any potential outliers. \n",
    "\n",
    "    \n",
    "    # Locate the rows which contain mice on each drug and get the tumor volumes\n",
    "    \n",
    "    \n",
    "    # add subset \n",
    "    \n",
    "    \n",
    "    # Determine outliers using upper and lower bounds\n",
    "    "
   ]
  },
  {
   "cell_type": "code",
   "execution_count": null,
   "metadata": {},
   "outputs": [],
   "source": [
    "# Generate a box plot of the final tumor volume of each mouse across four regimens of interest\n"
   ]
  },
  {
   "cell_type": "markdown",
   "metadata": {},
   "source": [
    "## Line and Scatter Plots"
   ]
  },
  {
   "cell_type": "code",
   "execution_count": null,
   "metadata": {},
   "outputs": [],
   "source": [
    "# Generate a line plot of tumor volume vs. time point for a mouse treated with Capomulin\n",
    "\n",
    "# get records for Capomulin regimen\n",
    "Capomulin_records_df = clean_mice_data.loc[(clean_mice_data[\"Drug Regimen\"] == \"Capomulin\"), :]\n",
    "\n",
    "# get records for one mouse on Capomulin\n",
    "One_mouse_records_df = Capomulin_records_df.loc[(clean_mice_data[\"Mouse ID\"] == Capomulin_records_df.iloc[0][\"Mouse ID\"]), :]\n",
    "mouse_shown = One_mouse_records_df.iloc[0][0]\n",
    "\n",
    "# get list tumor volumes for the mouse\n",
    "tumor_volumes_list = One_mouse_records_df[\"Tumor Volume (mm3)\"].tolist()\n",
    "\n",
    "# get list of time points\n",
    "timepoints_list = One_mouse_records_df[\"Timepoint\"].tolist()\n",
    "\n",
    "# format title for plot\n",
    "title = 'Tumor volume of mouse ' + mouse_shown + ' on Capomulin'\n",
    "\n",
    "# create line plot\n",
    "fig = plt.figure()\n",
    "plt.plot(timepoints_list, tumor_volumes_list)\n",
    "fig.suptitle(title, fontsize=12)\n",
    "plt.xlabel('Timepoints')\n",
    "plt.ylabel('Tumor Volumes')\n",
    "plt.show()\n"
   ]
  },
  {
   "cell_type": "code",
   "execution_count": null,
   "metadata": {},
   "outputs": [],
   "source": [
    "# Generate a scatter plot of average tumor volume vs. mouse weight for the Capomulin regimen\n",
    "weight_group = clean_mice_data.groupby([\"Weight (g)\"])\n",
    "weight_summary_df = weight_group.agg({\"Tumor Volume (mm3)\" : \"mean\"})\n",
    "\n",
    "weight_summary_df = weight_summary_df.reset_index()\n",
    "weight_list2 = weight_summary_df[\"Weight (g)\"].tolist()\n",
    "avg_tumor_vol_list = weight_summary_df[\"Tumor Volume (mm3)\"].tolist()\n",
    "\n",
    "fig = plt.figure()\n",
    "plt.scatter(weight_list2, avg_tumor_vol_list, marker=\"o\", facecolors=\"red\")\n",
    "fig.suptitle(\"Avg tumor volume vs. weight (Capomulin)\", fontsize=12)\n",
    "plt.xlabel('Weight (g)')\n",
    "plt.ylabel('Avg Tumor Volume')\n",
    "plt.show()\n",
    "\n"
   ]
  },
  {
   "cell_type": "markdown",
   "metadata": {},
   "source": [
    "## Correlation and Regression"
   ]
  },
  {
   "cell_type": "code",
   "execution_count": null,
   "metadata": {},
   "outputs": [],
   "source": [
    "# Calculate the correlation coefficient and linear regression model \n",
    "# for mouse weight and average tumor volume for the Capomulin regimen\n",
    "\n",
    "# run linregress to get components for correlaton coefficient and regression model\n",
    "(slope, intercept, rvalue, pvalue, stderr) = linregress(weight_list2, avg_tumor_vol_list)\n",
    "\n",
    "# calc correlation coefficient and format regression model equation\n",
    "correlation_coefficient = round(rvalue**2, 2)\n",
    "line_eq = \"y = \" + str(round(slope,2)) + \"x + \" + str(round(intercept,2))\n",
    "\n",
    "print ()\n",
    "print (f'Correlation coefficient: {correlation_coefficient}')\n",
    "print (f'Linear regression model: {line_eq}')\n",
    "print ()\n"
   ]
  },
  {
   "cell_type": "code",
   "execution_count": null,
   "metadata": {},
   "outputs": [],
   "source": []
  }
 ],
 "metadata": {
  "anaconda-cloud": {},
  "kernelspec": {
   "display_name": "Python 3",
   "language": "python",
   "name": "python3"
  },
  "language_info": {
   "codemirror_mode": {
    "name": "ipython",
    "version": 3
   },
   "file_extension": ".py",
   "mimetype": "text/x-python",
   "name": "python",
   "nbconvert_exporter": "python",
   "pygments_lexer": "ipython3",
   "version": "3.6.10"
  }
 },
 "nbformat": 4,
 "nbformat_minor": 4
}
